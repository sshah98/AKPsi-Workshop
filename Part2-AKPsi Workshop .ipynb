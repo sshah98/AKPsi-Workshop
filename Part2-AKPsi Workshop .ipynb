{
 "cells": [
  {
   "cell_type": "code",
   "execution_count": 3,
   "metadata": {},
   "outputs": [],
   "source": [
    "import numpy as np\n",
    "import pandas as pd\n",
    "import matplotlib.pyplot as plt\n",
    "\n",
    "from pandas import DataFrame\n",
    "from pandas import Series\n",
    "from pylab import*\n",
    "import seaborn as sns\n",
    "from __future__ import division #pandas always returns a float (decimal)\n"
   ]
  },
  {
   "cell_type": "code",
   "execution_count": 19,
   "metadata": {},
   "outputs": [
    {
     "name": "stdout",
     "output_type": "stream",
     "text": [
      "# of columns: 23\n",
      "# of rows: 50\n"
     ]
    }
   ],
   "source": [
    "df = pd.read_excel('http://social-metrics.org/wp-content/uploads/2016/06/indiegogo_50_random.xls')\n",
    "print '# of columns:', len(df.columns)\n",
    "print '# of rows:', len(df)\n",
    "# df.head()"
   ]
  },
  {
   "cell_type": "code",
   "execution_count": 20,
   "metadata": {},
   "outputs": [
    {
     "data": {
      "text/plain": [
       "count       47.000000\n",
       "mean      7271.680851\n",
       "std      11174.303070\n",
       "min          0.000000\n",
       "25%        655.000000\n",
       "50%       2829.000000\n",
       "75%      11494.500000\n",
       "max      63418.000000\n",
       "Name: amount_raised, dtype: float64"
      ]
     },
     "execution_count": 20,
     "metadata": {},
     "output_type": "execute_result"
    }
   ],
   "source": [
    "# This gives descriptive summaries on the entire dataset based on the amount raised\n",
    "\n",
    "df['amount_raised'].describe()"
   ]
  },
  {
   "cell_type": "code",
   "execution_count": 8,
   "metadata": {},
   "outputs": [
    {
     "data": {
      "text/html": [
       "<div>\n",
       "<style scoped>\n",
       "    .dataframe tbody tr th:only-of-type {\n",
       "        vertical-align: middle;\n",
       "    }\n",
       "\n",
       "    .dataframe tbody tr th {\n",
       "        vertical-align: top;\n",
       "    }\n",
       "\n",
       "    .dataframe thead th {\n",
       "        text-align: right;\n",
       "    }\n",
       "</style>\n",
       "<table border=\"1\" class=\"dataframe\">\n",
       "  <thead>\n",
       "    <tr style=\"text-align: right;\">\n",
       "      <th></th>\n",
       "      <th>count</th>\n",
       "      <th>mean</th>\n",
       "      <th>std</th>\n",
       "      <th>min</th>\n",
       "      <th>25%</th>\n",
       "      <th>50%</th>\n",
       "      <th>75%</th>\n",
       "      <th>max</th>\n",
       "    </tr>\n",
       "  </thead>\n",
       "  <tbody>\n",
       "    <tr>\n",
       "      <th>amount_raised</th>\n",
       "      <td>47.0</td>\n",
       "      <td>7271.680851</td>\n",
       "      <td>11174.303070</td>\n",
       "      <td>0.0</td>\n",
       "      <td>655.0</td>\n",
       "      <td>2829.0</td>\n",
       "      <td>11494.5</td>\n",
       "      <td>63418.0</td>\n",
       "    </tr>\n",
       "    <tr>\n",
       "      <th>funding_goal</th>\n",
       "      <td>47.0</td>\n",
       "      <td>21392.702128</td>\n",
       "      <td>29674.723090</td>\n",
       "      <td>500.0</td>\n",
       "      <td>5000.0</td>\n",
       "      <td>10000.0</td>\n",
       "      <td>25000.0</td>\n",
       "      <td>140000.0</td>\n",
       "    </tr>\n",
       "    <tr>\n",
       "      <th>updates_count</th>\n",
       "      <td>47.0</td>\n",
       "      <td>2.425532</td>\n",
       "      <td>3.411902</td>\n",
       "      <td>0.0</td>\n",
       "      <td>0.0</td>\n",
       "      <td>1.0</td>\n",
       "      <td>5.0</td>\n",
       "      <td>11.0</td>\n",
       "    </tr>\n",
       "    <tr>\n",
       "      <th>comments_count</th>\n",
       "      <td>47.0</td>\n",
       "      <td>15.744681</td>\n",
       "      <td>23.448805</td>\n",
       "      <td>0.0</td>\n",
       "      <td>2.0</td>\n",
       "      <td>6.0</td>\n",
       "      <td>18.0</td>\n",
       "      <td>123.0</td>\n",
       "    </tr>\n",
       "    <tr>\n",
       "      <th>funders_count</th>\n",
       "      <td>47.0</td>\n",
       "      <td>82.510638</td>\n",
       "      <td>116.228200</td>\n",
       "      <td>0.0</td>\n",
       "      <td>12.0</td>\n",
       "      <td>34.0</td>\n",
       "      <td>109.5</td>\n",
       "      <td>604.0</td>\n",
       "    </tr>\n",
       "    <tr>\n",
       "      <th>gallery_count</th>\n",
       "      <td>47.0</td>\n",
       "      <td>6.042553</td>\n",
       "      <td>10.172336</td>\n",
       "      <td>0.0</td>\n",
       "      <td>0.5</td>\n",
       "      <td>4.0</td>\n",
       "      <td>8.0</td>\n",
       "      <td>64.0</td>\n",
       "    </tr>\n",
       "    <tr>\n",
       "      <th>fr_links</th>\n",
       "      <td>47.0</td>\n",
       "      <td>2.936170</td>\n",
       "      <td>1.373733</td>\n",
       "      <td>0.0</td>\n",
       "      <td>2.0</td>\n",
       "      <td>3.0</td>\n",
       "      <td>4.0</td>\n",
       "      <td>7.0</td>\n",
       "    </tr>\n",
       "    <tr>\n",
       "      <th>team_size</th>\n",
       "      <td>47.0</td>\n",
       "      <td>3.148936</td>\n",
       "      <td>2.587417</td>\n",
       "      <td>1.0</td>\n",
       "      <td>1.0</td>\n",
       "      <td>2.0</td>\n",
       "      <td>4.5</td>\n",
       "      <td>12.0</td>\n",
       "    </tr>\n",
       "    <tr>\n",
       "      <th>number_of_perk_levels</th>\n",
       "      <td>47.0</td>\n",
       "      <td>6.212766</td>\n",
       "      <td>3.950433</td>\n",
       "      <td>0.0</td>\n",
       "      <td>3.0</td>\n",
       "      <td>7.0</td>\n",
       "      <td>8.5</td>\n",
       "      <td>16.0</td>\n",
       "    </tr>\n",
       "    <tr>\n",
       "      <th>twitter_count</th>\n",
       "      <td>47.0</td>\n",
       "      <td>15.319149</td>\n",
       "      <td>27.124597</td>\n",
       "      <td>0.0</td>\n",
       "      <td>0.5</td>\n",
       "      <td>4.0</td>\n",
       "      <td>16.0</td>\n",
       "      <td>127.0</td>\n",
       "    </tr>\n",
       "    <tr>\n",
       "      <th>fb_count</th>\n",
       "      <td>45.0</td>\n",
       "      <td>415.577778</td>\n",
       "      <td>911.169291</td>\n",
       "      <td>1.0</td>\n",
       "      <td>52.0</td>\n",
       "      <td>115.0</td>\n",
       "      <td>545.0</td>\n",
       "      <td>5943.0</td>\n",
       "    </tr>\n",
       "  </tbody>\n",
       "</table>\n",
       "</div>"
      ],
      "text/plain": [
       "                       count          mean           std    min     25%  \\\n",
       "amount_raised           47.0   7271.680851  11174.303070    0.0   655.0   \n",
       "funding_goal            47.0  21392.702128  29674.723090  500.0  5000.0   \n",
       "updates_count           47.0      2.425532      3.411902    0.0     0.0   \n",
       "comments_count          47.0     15.744681     23.448805    0.0     2.0   \n",
       "funders_count           47.0     82.510638    116.228200    0.0    12.0   \n",
       "gallery_count           47.0      6.042553     10.172336    0.0     0.5   \n",
       "fr_links                47.0      2.936170      1.373733    0.0     2.0   \n",
       "team_size               47.0      3.148936      2.587417    1.0     1.0   \n",
       "number_of_perk_levels   47.0      6.212766      3.950433    0.0     3.0   \n",
       "twitter_count           47.0     15.319149     27.124597    0.0     0.5   \n",
       "fb_count                45.0    415.577778    911.169291    1.0    52.0   \n",
       "\n",
       "                           50%      75%       max  \n",
       "amount_raised           2829.0  11494.5   63418.0  \n",
       "funding_goal           10000.0  25000.0  140000.0  \n",
       "updates_count              1.0      5.0      11.0  \n",
       "comments_count             6.0     18.0     123.0  \n",
       "funders_count             34.0    109.5     604.0  \n",
       "gallery_count              4.0      8.0      64.0  \n",
       "fr_links                   3.0      4.0       7.0  \n",
       "team_size                  2.0      4.5      12.0  \n",
       "number_of_perk_levels      7.0      8.5      16.0  \n",
       "twitter_count              4.0     16.0     127.0  \n",
       "fb_count                 115.0    545.0    5943.0  "
      ]
     },
     "execution_count": 8,
     "metadata": {},
     "output_type": "execute_result"
    }
   ],
   "source": [
    "df.describe().T\n",
    "# Dataframe output of everything"
   ]
  },
  {
   "cell_type": "code",
   "execution_count": 9,
   "metadata": {},
   "outputs": [
    {
     "data": {
      "text/plain": [
       "<matplotlib.axes._subplots.AxesSubplot at 0x7f725422b790>"
      ]
     },
     "execution_count": 9,
     "metadata": {},
     "output_type": "execute_result"
    },
    {
     "data": {
      "image/png": "[encoded data removed]",
      "text/plain": [
       "<matplotlib.figure.Figure at 0x7f72541d4f90>"
      ]
     },
     "metadata": {},
     "output_type": "display_data"
    }
   ],
   "source": [
    "df.boxplot('amount_raised', return_type='axes')"
   ]
  },
  {
   "cell_type": "code",
   "execution_count": 10,
   "metadata": {},
   "outputs": [
    {
     "data": {
      "text/plain": [
       "<matplotlib.axes._subplots.AxesSubplot at 0x7f725413a810>"
      ]
     },
     "execution_count": 10,
     "metadata": {},
     "output_type": "execute_result"
    },
    {
     "data": {
      "image/png": "[encoded data removed]",
      "text/plain": [
       "<matplotlib.figure.Figure at 0x7f725416d290>"
      ]
     },
     "metadata": {},
     "output_type": "display_data"
    }
   ],
   "source": [
    "df.sort_values(by=['amount_raised'], ascending=False)['amount_raised'].plot(kind='bar')"
   ]
  },
  {
   "cell_type": "code",
   "execution_count": null,
   "metadata": {},
   "outputs": [],
   "source": []
  },
  {
   "cell_type": "code",
   "execution_count": 23,
   "metadata": {},
   "outputs": [
    {
     "data": {
      "text/plain": [
       "<matplotlib.axes._subplots.AxesSubplot at 0x7f7251b8a210>"
      ]
     },
     "execution_count": 23,
     "metadata": {},
     "output_type": "execute_result"
    },
    {
     "data": {
      "image/png": "[encoded data removed]",
      "text/plain": [
       "<matplotlib.figure.Figure at 0x7f7251b93750>"
      ]
     },
     "metadata": {},
     "output_type": "display_data"
    }
   ],
   "source": [
    "df['amount_raised'].hist(bins=15)"
   ]
  },
  {
   "cell_type": "code",
   "execution_count": null,
   "metadata": {},
   "outputs": [],
   "source": []
  },
  {
   "cell_type": "code",
   "execution_count": 16,
   "metadata": {},
   "outputs": [],
   "source": [
    "df['percent_earned'] = df['amount_raised']/df['funding_goal']"
   ]
  },
  {
   "cell_type": "code",
   "execution_count": 18,
   "metadata": {},
   "outputs": [
    {
     "data": {
      "text/plain": [
       "1767    0.452986\n",
       "1163    0.008333\n",
       "2460    0.470000\n",
       "1707    1.082960\n",
       "2534    1.745455\n",
       "Name: percent_earned, dtype: float64"
      ]
     },
     "execution_count": 18,
     "metadata": {},
     "output_type": "execute_result"
    }
   ],
   "source": [
    "df['percent_earned'].head()"
   ]
  },
  {
   "cell_type": "code",
   "execution_count": 13,
   "metadata": {},
   "outputs": [
    {
     "data": {
      "text/plain": [
       "count    47.000000\n",
       "mean      0.554513\n",
       "std       0.566236\n",
       "min       0.000000\n",
       "25%       0.111445\n",
       "50%       0.342500\n",
       "75%       1.001018\n",
       "max       2.406200\n",
       "Name: percent_earned, dtype: float64"
      ]
     },
     "execution_count": 13,
     "metadata": {},
     "output_type": "execute_result"
    }
   ],
   "source": [
    "df['percent_earned'].describe()"
   ]
  },
  {
   "cell_type": "code",
   "execution_count": 14,
   "metadata": {},
   "outputs": [
    {
     "data": {
      "text/plain": [
       "<matplotlib.axes._subplots.AxesSubplot at 0x7f7251ef5dd0>"
      ]
     },
     "execution_count": 14,
     "metadata": {},
     "output_type": "execute_result"
    },
    {
     "data": {
      "image/png": "[encoded data removed]",
      "text/plain": [
       "<matplotlib.figure.Figure at 0x7f725422b9d0>"
      ]
     },
     "metadata": {},
     "output_type": "display_data"
    }
   ],
   "source": [
    "df.boxplot('percent_earned', return_type='axes')"
   ]
  },
  {
   "cell_type": "code",
   "execution_count": 15,
   "metadata": {},
   "outputs": [
    {
     "data": {
      "text/plain": [
       "<matplotlib.axes._subplots.AxesSubplot at 0x7f7251f6b050>"
      ]
     },
     "execution_count": 15,
     "metadata": {},
     "output_type": "execute_result"
    },
    {
     "data": {
      "image/png": "[encoded data removed]",
      "text/plain": [
       "<matplotlib.figure.Figure at 0x7f7251e98550>"
      ]
     },
     "metadata": {},
     "output_type": "display_data"
    }
   ],
   "source": [
    "df['percent_earned'].plot.hist(bins=100)"
   ]
  },
  {
   "cell_type": "code",
   "execution_count": null,
   "metadata": {},
   "outputs": [],
   "source": []
  }
 ],
 "metadata": {
  "kernelspec": {
   "display_name": "env",
   "language": "python",
   "name": "env"
  },
  "language_info": {
   "codemirror_mode": {
    "name": "ipython",
    "version": 2
   },
   "file_extension": ".py",
   "mimetype": "text/x-python",
   "name": "python",
   "nbconvert_exporter": "python",
   "pygments_lexer": "ipython2",
   "version": "2.7.12"
  }
 },
 "nbformat": 4,
 "nbformat_minor": 2
}
