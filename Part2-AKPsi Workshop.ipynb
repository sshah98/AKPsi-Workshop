{
 "cells": [
  {
   "cell_type": "code",
   "execution_count": 49,
   "metadata": {
    "collapsed": true
   },
   "outputs": [],
   "source": [
    "import numpy as np\n",
    "import pandas as pd\n",
    "import matplotlib.pyplot as plt\n",
    "\n",
    "from pandas import DataFrame\n",
    "from pandas import Series\n",
    "from pylab import*\n",
    "import seaborn as sns\n",
    "from __future__ import division #pandas always returns a float (decimal)\n",
    "%matplotlib inline"
   ]
  },
  {
   "cell_type": "code",
   "execution_count": 50,
   "metadata": {},
   "outputs": [
    {
     "name": "stdout",
     "output_type": "stream",
     "text": [
      "# of columns: 23\n",
      "# of rows: 50\n"
     ]
    }
   ],
   "source": [
    "df = pd.read_excel('http://social-metrics.org/wp-content/uploads/2016/06/indiegogo_50_random.xls')\n",
    "print('# of columns:', len(df.columns))\n",
    "print('# of rows:', len(df))\n",
    "# df.head()"
   ]
  },
  {
   "cell_type": "code",
   "execution_count": 51,
   "metadata": {},
   "outputs": [
    {
     "data": {
      "text/plain": [
       "count       47.000000\n",
       "mean      7271.680851\n",
       "std      11174.303070\n",
       "min          0.000000\n",
       "25%        655.000000\n",
       "50%       2829.000000\n",
       "75%      11494.500000\n",
       "max      63418.000000\n",
       "Name: amount_raised, dtype: float64"
      ]
     },
     "execution_count": 51,
     "metadata": {},
     "output_type": "execute_result"
    }
   ],
   "source": [
    "# This gives descriptive summaries on the entire dataset based on the amount raised\n",
    "\n",
    "df['amount_raised'].describe()"
   ]
  },
  {
   "cell_type": "code",
   "execution_count": 52,
   "metadata": {},
   "outputs": [
    {
     "data": {
      "text/html": [
       "<div>\n",
       "<style>\n",
       "    .dataframe thead tr:only-child th {\n",
       "        text-align: right;\n",
       "    }\n",
       "\n",
       "    .dataframe thead th {\n",
       "        text-align: left;\n",
       "    }\n",
       "\n",
       "    .dataframe tbody tr th {\n",
       "        vertical-align: top;\n",
       "    }\n",
       "</style>\n",
       "<table border=\"1\" class=\"dataframe\">\n",
       "  <thead>\n",
       "    <tr style=\"text-align: right;\">\n",
       "      <th></th>\n",
       "      <th>count</th>\n",
       "      <th>mean</th>\n",
       "      <th>std</th>\n",
       "      <th>min</th>\n",
       "      <th>25%</th>\n",
       "      <th>50%</th>\n",
       "      <th>75%</th>\n",
       "      <th>max</th>\n",
       "    </tr>\n",
       "  </thead>\n",
       "  <tbody>\n",
       "    <tr>\n",
       "      <th>amount_raised</th>\n",
       "      <td>47.0</td>\n",
       "      <td>7271.680851</td>\n",
       "      <td>11174.303070</td>\n",
       "      <td>0.0</td>\n",
       "      <td>655.0</td>\n",
       "      <td>2829.0</td>\n",
       "      <td>11494.5</td>\n",
       "      <td>63418.0</td>\n",
       "    </tr>\n",
       "    <tr>\n",
       "      <th>funding_goal</th>\n",
       "      <td>47.0</td>\n",
       "      <td>21392.702128</td>\n",
       "      <td>29674.723090</td>\n",
       "      <td>500.0</td>\n",
       "      <td>5000.0</td>\n",
       "      <td>10000.0</td>\n",
       "      <td>25000.0</td>\n",
       "      <td>140000.0</td>\n",
       "    </tr>\n",
       "    <tr>\n",
       "      <th>updates_count</th>\n",
       "      <td>47.0</td>\n",
       "      <td>2.425532</td>\n",
       "      <td>3.411902</td>\n",
       "      <td>0.0</td>\n",
       "      <td>0.0</td>\n",
       "      <td>1.0</td>\n",
       "      <td>5.0</td>\n",
       "      <td>11.0</td>\n",
       "    </tr>\n",
       "    <tr>\n",
       "      <th>comments_count</th>\n",
       "      <td>47.0</td>\n",
       "      <td>15.744681</td>\n",
       "      <td>23.448805</td>\n",
       "      <td>0.0</td>\n",
       "      <td>2.0</td>\n",
       "      <td>6.0</td>\n",
       "      <td>18.0</td>\n",
       "      <td>123.0</td>\n",
       "    </tr>\n",
       "    <tr>\n",
       "      <th>funders_count</th>\n",
       "      <td>47.0</td>\n",
       "      <td>82.510638</td>\n",
       "      <td>116.228200</td>\n",
       "      <td>0.0</td>\n",
       "      <td>12.0</td>\n",
       "      <td>34.0</td>\n",
       "      <td>109.5</td>\n",
       "      <td>604.0</td>\n",
       "    </tr>\n",
       "    <tr>\n",
       "      <th>gallery_count</th>\n",
       "      <td>47.0</td>\n",
       "      <td>6.042553</td>\n",
       "      <td>10.172336</td>\n",
       "      <td>0.0</td>\n",
       "      <td>0.5</td>\n",
       "      <td>4.0</td>\n",
       "      <td>8.0</td>\n",
       "      <td>64.0</td>\n",
       "    </tr>\n",
       "    <tr>\n",
       "      <th>fr_links</th>\n",
       "      <td>47.0</td>\n",
       "      <td>2.936170</td>\n",
       "      <td>1.373733</td>\n",
       "      <td>0.0</td>\n",
       "      <td>2.0</td>\n",
       "      <td>3.0</td>\n",
       "      <td>4.0</td>\n",
       "      <td>7.0</td>\n",
       "    </tr>\n",
       "    <tr>\n",
       "      <th>team_size</th>\n",
       "      <td>47.0</td>\n",
       "      <td>3.148936</td>\n",
       "      <td>2.587417</td>\n",
       "      <td>1.0</td>\n",
       "      <td>1.0</td>\n",
       "      <td>2.0</td>\n",
       "      <td>4.5</td>\n",
       "      <td>12.0</td>\n",
       "    </tr>\n",
       "    <tr>\n",
       "      <th>number_of_perk_levels</th>\n",
       "      <td>47.0</td>\n",
       "      <td>6.212766</td>\n",
       "      <td>3.950433</td>\n",
       "      <td>0.0</td>\n",
       "      <td>3.0</td>\n",
       "      <td>7.0</td>\n",
       "      <td>8.5</td>\n",
       "      <td>16.0</td>\n",
       "    </tr>\n",
       "    <tr>\n",
       "      <th>twitter_count</th>\n",
       "      <td>47.0</td>\n",
       "      <td>15.319149</td>\n",
       "      <td>27.124597</td>\n",
       "      <td>0.0</td>\n",
       "      <td>0.5</td>\n",
       "      <td>4.0</td>\n",
       "      <td>16.0</td>\n",
       "      <td>127.0</td>\n",
       "    </tr>\n",
       "    <tr>\n",
       "      <th>fb_count</th>\n",
       "      <td>45.0</td>\n",
       "      <td>415.577778</td>\n",
       "      <td>911.169291</td>\n",
       "      <td>1.0</td>\n",
       "      <td>52.0</td>\n",
       "      <td>115.0</td>\n",
       "      <td>545.0</td>\n",
       "      <td>5943.0</td>\n",
       "    </tr>\n",
       "  </tbody>\n",
       "</table>\n",
       "</div>"
      ],
      "text/plain": [
       "                       count          mean           std    min     25%  \\\n",
       "amount_raised           47.0   7271.680851  11174.303070    0.0   655.0   \n",
       "funding_goal            47.0  21392.702128  29674.723090  500.0  5000.0   \n",
       "updates_count           47.0      2.425532      3.411902    0.0     0.0   \n",
       "comments_count          47.0     15.744681     23.448805    0.0     2.0   \n",
       "funders_count           47.0     82.510638    116.228200    0.0    12.0   \n",
       "gallery_count           47.0      6.042553     10.172336    0.0     0.5   \n",
       "fr_links                47.0      2.936170      1.373733    0.0     2.0   \n",
       "team_size               47.0      3.148936      2.587417    1.0     1.0   \n",
       "number_of_perk_levels   47.0      6.212766      3.950433    0.0     3.0   \n",
       "twitter_count           47.0     15.319149     27.124597    0.0     0.5   \n",
       "fb_count                45.0    415.577778    911.169291    1.0    52.0   \n",
       "\n",
       "                           50%      75%       max  \n",
       "amount_raised           2829.0  11494.5   63418.0  \n",
       "funding_goal           10000.0  25000.0  140000.0  \n",
       "updates_count              1.0      5.0      11.0  \n",
       "comments_count             6.0     18.0     123.0  \n",
       "funders_count             34.0    109.5     604.0  \n",
       "gallery_count              4.0      8.0      64.0  \n",
       "fr_links                   3.0      4.0       7.0  \n",
       "team_size                  2.0      4.5      12.0  \n",
       "number_of_perk_levels      7.0      8.5      16.0  \n",
       "twitter_count              4.0     16.0     127.0  \n",
       "fb_count                 115.0    545.0    5943.0  "
      ]
     },
     "execution_count": 52,
     "metadata": {},
     "output_type": "execute_result"
    }
   ],
   "source": [
    "df.describe().T\n",
    "# Dataframe output of everything"
   ]
  },
  {
   "cell_type": "code",
   "execution_count": 53,
   "metadata": {},
   "outputs": [
    {
     "data": {
      "text/plain": [
       "<matplotlib.axes._subplots.AxesSubplot at 0x16dadd64908>"
      ]
     },
     "execution_count": 53,
     "metadata": {},
     "output_type": "execute_result"
    },
    {
     "data": {
      "image/png": "[encoded data removed]",
      "text/plain": [
       "<matplotlib.figure.Figure at 0x16dadd48748>"
      ]
     },
     "metadata": {},
     "output_type": "display_data"
    }
   ],
   "source": [
    "df.boxplot('amount_raised', return_type='axes')"
   ]
  },
  {
   "cell_type": "code",
   "execution_count": 32,
   "metadata": {},
   "outputs": [
    {
     "data": {
      "text/plain": [
       "<matplotlib.axes._subplots.AxesSubplot at 0x16dad295518>"
      ]
     },
     "execution_count": 32,
     "metadata": {},
     "output_type": "execute_result"
    }
   ],
   "source": [
    "df.sort_values(by=['amount_raised'], ascending=False)['amount_raised'].plot(kind='bar')"
   ]
  },
  {
   "cell_type": "code",
   "execution_count": null,
   "metadata": {
    "collapsed": true
   },
   "outputs": [],
   "source": []
  },
  {
   "cell_type": "code",
   "execution_count": 48,
   "metadata": {},
   "outputs": [
    {
     "data": {
      "text/plain": [
       "<matplotlib.axes._subplots.AxesSubplot at 0x16dad295518>"
      ]
     },
     "execution_count": 48,
     "metadata": {},
     "output_type": "execute_result"
    }
   ],
   "source": [
    "df['amount_raised'].hist(bins=15)"
   ]
  },
  {
   "cell_type": "code",
   "execution_count": null,
   "metadata": {
    "collapsed": true
   },
   "outputs": [],
   "source": []
  },
  {
   "cell_type": "code",
   "execution_count": 34,
   "metadata": {
    "collapsed": true
   },
   "outputs": [],
   "source": [
    "df['percent_earned'] = df['amount_raised']/df['funding_goal']"
   ]
  },
  {
   "cell_type": "code",
   "execution_count": 35,
   "metadata": {},
   "outputs": [
    {
     "data": {
      "text/plain": [
       "1767    0.452986\n",
       "1163    0.008333\n",
       "2460    0.470000\n",
       "1707    1.082960\n",
       "2534    1.745455\n",
       "Name: percent_earned, dtype: float64"
      ]
     },
     "execution_count": 35,
     "metadata": {},
     "output_type": "execute_result"
    }
   ],
   "source": [
    "df['percent_earned'].head()"
   ]
  },
  {
   "cell_type": "code",
   "execution_count": 36,
   "metadata": {},
   "outputs": [
    {
     "data": {
      "text/plain": [
       "count    47.000000\n",
       "mean      0.554513\n",
       "std       0.566236\n",
       "min       0.000000\n",
       "25%       0.111445\n",
       "50%       0.342500\n",
       "75%       1.001018\n",
       "max       2.406200\n",
       "Name: percent_earned, dtype: float64"
      ]
     },
     "execution_count": 36,
     "metadata": {},
     "output_type": "execute_result"
    }
   ],
   "source": [
    "df['percent_earned'].describe()"
   ]
  },
  {
   "cell_type": "code",
   "execution_count": 37,
   "metadata": {},
   "outputs": [
    {
     "data": {
      "text/plain": [
       "<matplotlib.axes._subplots.AxesSubplot at 0x16dad295518>"
      ]
     },
     "execution_count": 37,
     "metadata": {},
     "output_type": "execute_result"
    }
   ],
   "source": [
    "df.boxplot('percent_earned', return_type='axes')"
   ]
  },
  {
   "cell_type": "code",
   "execution_count": 38,
   "metadata": {},
   "outputs": [
    {
     "data": {
      "text/plain": [
       "<matplotlib.axes._subplots.AxesSubplot at 0x16dad295518>"
      ]
     },
     "execution_count": 38,
     "metadata": {},
     "output_type": "execute_result"
    }
   ],
   "source": [
    "df['percent_earned'].plot.hist(bins=100)"
   ]
  },
  {
   "cell_type": "code",
   "execution_count": 39,
   "metadata": {},
   "outputs": [
    {
     "data": {
      "text/html": [
       "<div>\n",
       "<style>\n",
       "    .dataframe thead tr:only-child th {\n",
       "        text-align: right;\n",
       "    }\n",
       "\n",
       "    .dataframe thead th {\n",
       "        text-align: left;\n",
       "    }\n",
       "\n",
       "    .dataframe tbody tr th {\n",
       "        vertical-align: top;\n",
       "    }\n",
       "</style>\n",
       "<table border=\"1\" class=\"dataframe\">\n",
       "  <thead>\n",
       "    <tr style=\"text-align: right;\">\n",
       "      <th></th>\n",
       "      <th>project_url</th>\n",
       "      <th>charity_name</th>\n",
       "      <th>description</th>\n",
       "      <th>amount_raised</th>\n",
       "      <th>days_left</th>\n",
       "      <th>funding_goal</th>\n",
       "      <th>funding_info</th>\n",
       "      <th>updates_count</th>\n",
       "      <th>comments_count</th>\n",
       "      <th>funders_count</th>\n",
       "      <th>...</th>\n",
       "      <th>fr_links</th>\n",
       "      <th>team_size</th>\n",
       "      <th>team_text</th>\n",
       "      <th>number_of_perk_levels</th>\n",
       "      <th>perks_text</th>\n",
       "      <th>twitter_count</th>\n",
       "      <th>fb_count</th>\n",
       "      <th>campaign_start_date</th>\n",
       "      <th>campaign_end_date</th>\n",
       "      <th>percent_earned</th>\n",
       "    </tr>\n",
       "  </thead>\n",
       "  <tbody>\n",
       "    <tr>\n",
       "      <th>1767</th>\n",
       "      <td>http://www.indiegogo.com/projects/350926/fblk</td>\n",
       "      <td>B2B - Joga Capoeira</td>\n",
       "      <td>B2B stands for Bay to Bahia by bicycle. Legend...</td>\n",
       "      <td>63418.0</td>\n",
       "      <td>0time left</td>\n",
       "      <td>140000.0</td>\n",
       "      <td>This campaign has ended and will receive all f...</td>\n",
       "      <td>7.0</td>\n",
       "      <td>123.0</td>\n",
       "      <td>604.0</td>\n",
       "      <td>...</td>\n",
       "      <td>3.0</td>\n",
       "      <td>7.0</td>\n",
       "      <td>**********      \\t\\t\\tMestre Acordeon\\t\\t...</td>\n",
       "      <td>10.0</td>\n",
       "      <td>**********      \\t\\t$10\\t\\t1 Mile\\t\\t\\tB2...</td>\n",
       "      <td>108.0</td>\n",
       "      <td>5943.0</td>\n",
       "      <td>2013-06-03</td>\n",
       "      <td>2013-07-27</td>\n",
       "      <td>0.452986</td>\n",
       "    </tr>\n",
       "    <tr>\n",
       "      <th>1163</th>\n",
       "      <td>http://www.indiegogo.com/projects/367127/fblk</td>\n",
       "      <td>Broadway Bound to Disneyland!</td>\n",
       "      <td>Woodland Opera House's Broadway Bound is heade...</td>\n",
       "      <td>25.0</td>\n",
       "      <td>0time left</td>\n",
       "      <td>3000.0</td>\n",
       "      <td>This campaign received all of the funds contri...</td>\n",
       "      <td>0.0</td>\n",
       "      <td>1.0</td>\n",
       "      <td>1.0</td>\n",
       "      <td>...</td>\n",
       "      <td>4.0</td>\n",
       "      <td>1.0</td>\n",
       "      <td>**********      \\t\\t\\tJames  Glica-Hernan...</td>\n",
       "      <td>5.0</td>\n",
       "      <td>**********      \\t\\t$5\\t\\tA Note of Suppo...</td>\n",
       "      <td>0.0</td>\n",
       "      <td>37.0</td>\n",
       "      <td>2013-04-04</td>\n",
       "      <td>2013-05-17</td>\n",
       "      <td>0.008333</td>\n",
       "    </tr>\n",
       "    <tr>\n",
       "      <th>2460</th>\n",
       "      <td>http://www.indiegogo.com/projects/492747/fblk</td>\n",
       "      <td>HOW TO BREAK at ARTS Rx</td>\n",
       "      <td>A play about being ill produced by Collective ...</td>\n",
       "      <td>2350.0</td>\n",
       "      <td>0time left</td>\n",
       "      <td>5000.0</td>\n",
       "      <td>This campaign has ended and will receive all f...</td>\n",
       "      <td>0.0</td>\n",
       "      <td>9.0</td>\n",
       "      <td>46.0</td>\n",
       "      <td>...</td>\n",
       "      <td>2.0</td>\n",
       "      <td>7.0</td>\n",
       "      <td>**********      \\t\\t\\tAaron  Jafferis\\t\\t...</td>\n",
       "      <td>7.0</td>\n",
       "      <td>**********      \\t\\t$1\\t\\tCell\\t\\t\\tOur h...</td>\n",
       "      <td>0.0</td>\n",
       "      <td>56.0</td>\n",
       "      <td>NaT</td>\n",
       "      <td>NaT</td>\n",
       "      <td>0.470000</td>\n",
       "    </tr>\n",
       "    <tr>\n",
       "      <th>1707</th>\n",
       "      <td>http://www.indiegogo.com/projects/390891/fblk</td>\n",
       "      <td>LivelyHoods: creating jobs for youth in Kenyan...</td>\n",
       "      <td>Let's go beyond band-aid solutions. We can ope...</td>\n",
       "      <td>27074.0</td>\n",
       "      <td>0time left</td>\n",
       "      <td>25000.0</td>\n",
       "      <td>This campaign received all of the funds contri...</td>\n",
       "      <td>9.0</td>\n",
       "      <td>42.0</td>\n",
       "      <td>251.0</td>\n",
       "      <td>...</td>\n",
       "      <td>3.0</td>\n",
       "      <td>8.0</td>\n",
       "      <td>**********      \\t\\t\\tMaria Springer\\t\\tC...</td>\n",
       "      <td>11.0</td>\n",
       "      <td>**********      \\t\\t$2\\t\\tBeyond Band-Aid...</td>\n",
       "      <td>127.0</td>\n",
       "      <td>1136.0</td>\n",
       "      <td>2013-05-06</td>\n",
       "      <td>2013-06-03</td>\n",
       "      <td>1.082960</td>\n",
       "    </tr>\n",
       "    <tr>\n",
       "      <th>2534</th>\n",
       "      <td>http://www.indiegogo.com/projects/497958/fblk</td>\n",
       "      <td>Help make BarCamp Fond du Lac a reality!</td>\n",
       "      <td>Let's get this idea swap meet started!</td>\n",
       "      <td>960.0</td>\n",
       "      <td>0time left</td>\n",
       "      <td>550.0</td>\n",
       "      <td>This campaign has ended and will receive all f...</td>\n",
       "      <td>1.0</td>\n",
       "      <td>2.0</td>\n",
       "      <td>12.0</td>\n",
       "      <td>...</td>\n",
       "      <td>3.0</td>\n",
       "      <td>4.0</td>\n",
       "      <td>**********      \\t\\t\\tJoshua Cowles\\t\\t\\t...</td>\n",
       "      <td>6.0</td>\n",
       "      <td>**********      \\t\\t$10\\t\\tDe Mestral\\t\\t...</td>\n",
       "      <td>12.0</td>\n",
       "      <td>87.0</td>\n",
       "      <td>NaT</td>\n",
       "      <td>NaT</td>\n",
       "      <td>1.745455</td>\n",
       "    </tr>\n",
       "  </tbody>\n",
       "</table>\n",
       "<p>5 rows × 24 columns</p>\n",
       "</div>"
      ],
      "text/plain": [
       "                                        project_url  \\\n",
       "1767  http://www.indiegogo.com/projects/350926/fblk   \n",
       "1163  http://www.indiegogo.com/projects/367127/fblk   \n",
       "2460  http://www.indiegogo.com/projects/492747/fblk   \n",
       "1707  http://www.indiegogo.com/projects/390891/fblk   \n",
       "2534  http://www.indiegogo.com/projects/497958/fblk   \n",
       "\n",
       "                                           charity_name  \\\n",
       "1767                                B2B - Joga Capoeira   \n",
       "1163                      Broadway Bound to Disneyland!   \n",
       "2460                            HOW TO BREAK at ARTS Rx   \n",
       "1707  LivelyHoods: creating jobs for youth in Kenyan...   \n",
       "2534           Help make BarCamp Fond du Lac a reality!   \n",
       "\n",
       "                                            description  amount_raised  \\\n",
       "1767  B2B stands for Bay to Bahia by bicycle. Legend...        63418.0   \n",
       "1163  Woodland Opera House's Broadway Bound is heade...           25.0   \n",
       "2460  A play about being ill produced by Collective ...         2350.0   \n",
       "1707  Let's go beyond band-aid solutions. We can ope...        27074.0   \n",
       "2534             Let's get this idea swap meet started!          960.0   \n",
       "\n",
       "       days_left  funding_goal  \\\n",
       "1767  0time left      140000.0   \n",
       "1163  0time left        3000.0   \n",
       "2460  0time left        5000.0   \n",
       "1707  0time left       25000.0   \n",
       "2534  0time left         550.0   \n",
       "\n",
       "                                           funding_info  updates_count  \\\n",
       "1767  This campaign has ended and will receive all f...            7.0   \n",
       "1163  This campaign received all of the funds contri...            0.0   \n",
       "2460  This campaign has ended and will receive all f...            0.0   \n",
       "1707  This campaign received all of the funds contri...            9.0   \n",
       "2534  This campaign has ended and will receive all f...            1.0   \n",
       "\n",
       "      comments_count  funders_count       ...        fr_links team_size  \\\n",
       "1767           123.0          604.0       ...             3.0       7.0   \n",
       "1163             1.0            1.0       ...             4.0       1.0   \n",
       "2460             9.0           46.0       ...             2.0       7.0   \n",
       "1707            42.0          251.0       ...             3.0       8.0   \n",
       "2534             2.0           12.0       ...             3.0       4.0   \n",
       "\n",
       "                                              team_text number_of_perk_levels  \\\n",
       "1767       **********      \\t\\t\\tMestre Acordeon\\t\\t...                  10.0   \n",
       "1163       **********      \\t\\t\\tJames  Glica-Hernan...                   5.0   \n",
       "2460       **********      \\t\\t\\tAaron  Jafferis\\t\\t...                   7.0   \n",
       "1707       **********      \\t\\t\\tMaria Springer\\t\\tC...                  11.0   \n",
       "2534       **********      \\t\\t\\tJoshua Cowles\\t\\t\\t...                   6.0   \n",
       "\n",
       "                                             perks_text  twitter_count  \\\n",
       "1767       **********      \\t\\t$10\\t\\t1 Mile\\t\\t\\tB2...          108.0   \n",
       "1163       **********      \\t\\t$5\\t\\tA Note of Suppo...            0.0   \n",
       "2460       **********      \\t\\t$1\\t\\tCell\\t\\t\\tOur h...            0.0   \n",
       "1707       **********      \\t\\t$2\\t\\tBeyond Band-Aid...          127.0   \n",
       "2534       **********      \\t\\t$10\\t\\tDe Mestral\\t\\t...           12.0   \n",
       "\n",
       "     fb_count  campaign_start_date campaign_end_date  percent_earned  \n",
       "1767   5943.0           2013-06-03        2013-07-27        0.452986  \n",
       "1163     37.0           2013-04-04        2013-05-17        0.008333  \n",
       "2460     56.0                  NaT               NaT        0.470000  \n",
       "1707   1136.0           2013-05-06        2013-06-03        1.082960  \n",
       "2534     87.0                  NaT               NaT        1.745455  \n",
       "\n",
       "[5 rows x 24 columns]"
      ]
     },
     "execution_count": 39,
     "metadata": {},
     "output_type": "execute_result"
    }
   ],
   "source": [
    "df.head()"
   ]
  },
  {
   "cell_type": "code",
   "execution_count": null,
   "metadata": {
    "collapsed": true
   },
   "outputs": [],
   "source": []
  }
 ],
 "metadata": {
  "kernelspec": {
   "display_name": "Python 3",
   "language": "python",
   "name": "python3"
  },
  "language_info": {
   "codemirror_mode": {
    "name": "ipython",
    "version": 3
   },
   "file_extension": ".py",
   "mimetype": "text/x-python",
   "name": "python",
   "nbconvert_exporter": "python",
   "pygments_lexer": "ipython3",
   "version": "3.6.3"
  }
 },
 "nbformat": 4,
 "nbformat_minor": 2
}
